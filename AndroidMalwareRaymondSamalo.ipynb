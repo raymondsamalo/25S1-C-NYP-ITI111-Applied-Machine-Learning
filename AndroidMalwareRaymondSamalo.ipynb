{
 "cells": [
  {
   "cell_type": "markdown",
   "id": "1b6e586b",
   "metadata": {},
   "source": [
    "# Android Malware\n",
    "\n",
    "Our dataset for this project is taken from https://www.mlsec.org/docs/2014-ndss.pdf which is a known dataset of android malware data.\n",
    "This is a public dataset which we downloaded from https://figshare.com/articles/dataset/Android_malware_dataset_for_machine_learning_2/5854653/1\n",
    "\n",
    "There are other similar datasets for android malware for example:\n",
    "- https://github.com/DefenseDroid/DefenseDroid    \n",
    "- https://www.unb.ca/cic/datasets/maldroid-2020.html \n",
    "    - file: feature_vectors_syscalls_frequency_5_Cat.csv \n",
    "    - This is a very comprehensive and clean data set. The problem with this dataset is that it is too clean to demonstrate preprocessing steps in our project.\n",
    "- https://www.unb.ca/cic/datasets/andmal2020.html\n",
    "    - This data set similar to the other Maldroid 2020 data set. However, in contrast it contains multiple csv files and we need to spend considerable effort\n",
    "      to create a data set that can be used for our assignment.\n",
    "Hence, the  Drebin dataset is chosen as made it easier to work with for our purpose and demonstrate the ML processes."
   ]
  },
  {
   "cell_type": "markdown",
   "id": "8a411bc0",
   "metadata": {},
   "source": [
    "# Import Dependencies"
   ]
  },
  {
   "cell_type": "code",
   "execution_count": 4,
   "id": "cc912a84",
   "metadata": {},
   "outputs": [],
   "source": [
    "import pandas as pd\n",
    "import numpy as np\n",
    "import seaborn as sns\n",
    "import matplotlib\n",
    "from matplotlib import pyplot as plt"
   ]
  },
  {
   "cell_type": "markdown",
   "id": "3bfa0709",
   "metadata": {},
   "source": [
    "# Exploratory Data Analysis\n",
    "\n",
    "Let's analyze our dataset and hopefully gain some insights."
   ]
  },
  {
   "cell_type": "code",
   "execution_count": 63,
   "id": "7a99031f",
   "metadata": {},
   "outputs": [
    {
     "name": "stdout",
     "output_type": "stream",
     "text": [
      "<class 'pandas.core.frame.DataFrame'>\n",
      "RangeIndex: 15036 entries, 0 to 15035\n",
      "Columns: 216 entries, transact to class\n",
      "dtypes: int64(214), object(2)\n",
      "memory usage: 24.8+ MB\n"
     ]
    },
    {
     "name": "stderr",
     "output_type": "stream",
     "text": [
      "/var/folders/pq/ctzkfdzj3cg4894zy28yqknc0000gn/T/ipykernel_6512/1105618988.py:1: DtypeWarning: Columns (92) have mixed types. Specify dtype option on import or set low_memory=False.\n",
      "  df=pd.read_csv(\"https://raw.githubusercontent.com/raymondsamalo/25S1-C-NYP-ITI111-Applied-Machine-Learning/refs/heads/main/drebin-215-dataset-5560malware-9476-benign.csv\")\n"
     ]
    }
   ],
   "source": [
    "df=pd.read_csv(\"https://raw.githubusercontent.com/raymondsamalo/25S1-C-NYP-ITI111-Applied-Machine-Learning/refs/heads/main/drebin-215-dataset-5560malware-9476-benign.csv\")\n",
    "df.info() # read our data frame"
   ]
  },
  {
   "cell_type": "markdown",
   "id": "34effdfd",
   "metadata": {},
   "source": [
    "\n",
    "Pandas reported issue for columns 92\n",
    "``` DtypeWarning: Columns (92) have mixed types. Specify dtype option on import or set low_memory=False.```.\n",
    "\n",
    "Let's take a deeper look on this column 92.\n"
   ]
  },
  {
   "cell_type": "code",
   "execution_count": 56,
   "id": "00c39cb6",
   "metadata": {},
   "outputs": [
    {
     "name": "stdout",
     "output_type": "stream",
     "text": [
      "TelephonyManager.getSimCountryIso\n",
      "['0' '1' '?' 1 0]\n"
     ]
    }
   ],
   "source": [
    "column_names_index = df.columns\n",
    "print(column_names_index[92]) # output TelephonyManager.getSimCountryIso\n",
    "print(df['TelephonyManager.getSimCountryIso'].unique()) # output array(['0', '1', '?', 1, 0], dtype=object)"
   ]
  },
  {
   "cell_type": "markdown",
   "id": "c1bd5276",
   "metadata": {},
   "source": [
    "We discovered that the column 92 or `TelephonyManager.getSimCountryIso` contains `['0' '1' '?' 1 0]`.\n",
    "\n",
    "We need to handle unknown '?' data and also convert '0','1' to integer.\n",
    "\n",
    "However, the df.info() shows us that we have two object columns. \n",
    "Let's check out the other object column to gain deeper insight to our data."
   ]
  },
  {
   "cell_type": "code",
   "execution_count": 47,
   "id": "0490dd31",
   "metadata": {},
   "outputs": [
    {
     "name": "stdout",
     "output_type": "stream",
     "text": [
      "Object columns: ['TelephonyManager.getSimCountryIso', 'class']\n",
      "Column                                  Values\n",
      "TelephonyManager.getSimCountryIso       ['0' '1' '?' 1 0]\n",
      "class                                   ['S' 'B']\n"
     ]
    }
   ],
   "source": [
    "object_columns = df.select_dtypes(include=['object']).columns.tolist()\n",
    "print(f\"Object columns: {object_columns}\") # Object columns: ['TelephonyManager.getSimCountryIso', 'class']\n",
    "print(f\"{'Column':40}Values\")\n",
    "for i in object_columns:\n",
    "    print(f\"{i:40}{df[i].unique()}\")"
   ]
  },
  {
   "cell_type": "markdown",
   "id": "89ac8046",
   "metadata": {},
   "source": [
    "We discover that beside 'TelephonyManager.getSimCountryIso', the other object or string column is 'class'.\n",
    "For 'class' column, the values are ['S' 'B']. \n",
    "We do not need to handle missing value for 'class' column but we do need to convert 'S' to suspicious malware and 'B' to benign.\n",
    "We shall do this by converting the value to integer 1 for Malware and 0 for benign in a new column.\n",
    "\n",
    "Alright, given we know the two columns that we need to handle, let's preprocess them."
   ]
  },
  {
   "cell_type": "code",
   "execution_count": 81,
   "id": "c4106a4f",
   "metadata": {},
   "outputs": [
    {
     "name": "stdout",
     "output_type": "stream",
     "text": [
      "[ 0.  1. nan]\n",
      "176     1\n",
      "1971    1\n",
      "2109    1\n",
      "2950    1\n",
      "5174    1\n",
      "dtype: int64\n"
     ]
    }
   ],
   "source": [
    "column_name='TelephonyManager.getSimCountryIso'\n",
    "df[column_name] = pd.to_numeric(df[column_name], errors='coerce') \n",
    "if 'class' in df:\n",
    "    df['malware']=(df['class']=='S').astype(int)\n",
    "    df.drop('class',axis=1,inplace=True)\n",
    "print(df[column_name].unique())\n",
    "nan_count_per_row = df.isnull().sum(axis=1)\n",
    "row_that_has_nan = nan_count_per_row[nan_count_per_row>0]\n",
    "print(row_that_has_nan)\n"
   ]
  },
  {
   "cell_type": "markdown",
   "id": "85bd791e",
   "metadata": {},
   "source": [
    "Given we only have 5 rows of getSimCountryIso that has NaN and we do know that "
   ]
  },
  {
   "cell_type": "code",
   "execution_count": null,
   "id": "7a113a4a",
   "metadata": {},
   "outputs": [],
   "source": []
  }
 ],
 "metadata": {
  "kernelspec": {
   "display_name": "ml",
   "language": "python",
   "name": "python3"
  },
  "language_info": {
   "codemirror_mode": {
    "name": "ipython",
    "version": 3
   },
   "file_extension": ".py",
   "mimetype": "text/x-python",
   "name": "python",
   "nbconvert_exporter": "python",
   "pygments_lexer": "ipython3",
   "version": "3.13.2"
  }
 },
 "nbformat": 4,
 "nbformat_minor": 5
}
